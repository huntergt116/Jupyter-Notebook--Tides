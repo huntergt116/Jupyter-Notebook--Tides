{
 "cells": [
  {
   "cell_type": "markdown",
   "metadata": {},
   "source": [
    "# Analyzing Tides"
   ]
  },
  {
   "cell_type": "markdown",
   "metadata": {},
   "source": [
    "In this example, you will use programming to look at oceanic data and observe how tides change over time."
   ]
  },
  {
   "cell_type": "code",
   "execution_count": 41,
   "metadata": {
    "collapsed": true
   },
   "outputs": [],
   "source": [
    "# The first pieces of code we need are called 'imports'\n",
    "\n",
    "import numpy as np\n",
    "import pandas as pd\n",
    "%matplotlib inline\n",
    "import matplotlib.pyplot as plt\n",
    "\n",
    "# These imports contain programming instructions (called 'modules') to read data, plot data, etc.\n",
    "# You can think of a tool box. Each tool box contains a different set of tools to use."
   ]
  },
  {
   "cell_type": "markdown",
   "metadata": {},
   "source": [
    "# Importing the Data"
   ]
  },
  {
   "cell_type": "code",
   "execution_count": 42,
   "metadata": {
    "collapsed": true
   },
   "outputs": [],
   "source": [
    "# We need to read some data. Let's use our tool \".read_csv\" located in the \"pd\" toolbox.\n",
    "# This data is from a Water Level Station in Miami, FL:\n",
    "data = pd.read_csv(\"https://tidesandcurrents.noaa.gov/api/datagetter?product=monthly_mean&application=NOS.COOPS.TAC.WL&begin_date=20160101&end_date=20161201&datum=MLLW&station=8723214&time_zone=GMT&units=english&format=csv\")\n",
    "column_names = ['Year','Month','Highest','MHHW','MHW','MSL','MTL','MLW','MLLW','DTL','GT','MN','DHQ','DLQ','HWI','LWI','Lowest','Inferred']\n",
    "data.columns = column_names"
   ]
  },
  {
   "cell_type": "markdown",
   "metadata": {},
   "source": [
    "# Reading the Data"
   ]
  },
  {
   "cell_type": "code",
   "execution_count": 43,
   "metadata": {
    "collapsed": false
   },
   "outputs": [
    {
     "data": {
      "text/html": [
       "<div>\n",
       "<table border=\"1\" class=\"dataframe\">\n",
       "  <thead>\n",
       "    <tr style=\"text-align: right;\">\n",
       "      <th></th>\n",
       "      <th>Year</th>\n",
       "      <th>Month</th>\n",
       "      <th>Highest</th>\n",
       "      <th>MHHW</th>\n",
       "      <th>MHW</th>\n",
       "      <th>MSL</th>\n",
       "      <th>MTL</th>\n",
       "      <th>MLW</th>\n",
       "      <th>MLLW</th>\n",
       "      <th>DTL</th>\n",
       "      <th>GT</th>\n",
       "      <th>MN</th>\n",
       "      <th>DHQ</th>\n",
       "      <th>DLQ</th>\n",
       "      <th>HWI</th>\n",
       "      <th>LWI</th>\n",
       "      <th>Lowest</th>\n",
       "      <th>Inferred</th>\n",
       "    </tr>\n",
       "  </thead>\n",
       "  <tbody>\n",
       "    <tr>\n",
       "      <th>0</th>\n",
       "      <td>2016</td>\n",
       "      <td>1</td>\n",
       "      <td>3.350</td>\n",
       "      <td>2.717</td>\n",
       "      <td>2.648</td>\n",
       "      <td>1.565</td>\n",
       "      <td>1.604</td>\n",
       "      <td>0.561</td>\n",
       "      <td>0.433</td>\n",
       "      <td>1.575</td>\n",
       "      <td>2.283</td>\n",
       "      <td>2.087</td>\n",
       "      <td>0.069</td>\n",
       "      <td>0.128</td>\n",
       "      <td>1.55</td>\n",
       "      <td>7.68</td>\n",
       "      <td>-0.210</td>\n",
       "      <td>0</td>\n",
       "    </tr>\n",
       "    <tr>\n",
       "      <th>1</th>\n",
       "      <td>2016</td>\n",
       "      <td>3</td>\n",
       "      <td>3.009</td>\n",
       "      <td>2.336</td>\n",
       "      <td>2.290</td>\n",
       "      <td>1.224</td>\n",
       "      <td>1.263</td>\n",
       "      <td>0.236</td>\n",
       "      <td>0.144</td>\n",
       "      <td>1.240</td>\n",
       "      <td>2.192</td>\n",
       "      <td>2.054</td>\n",
       "      <td>0.046</td>\n",
       "      <td>0.092</td>\n",
       "      <td>1.51</td>\n",
       "      <td>7.69</td>\n",
       "      <td>-0.335</td>\n",
       "      <td>0</td>\n",
       "    </tr>\n",
       "    <tr>\n",
       "      <th>2</th>\n",
       "      <td>2016</td>\n",
       "      <td>4</td>\n",
       "      <td>2.959</td>\n",
       "      <td>2.605</td>\n",
       "      <td>2.533</td>\n",
       "      <td>1.444</td>\n",
       "      <td>1.483</td>\n",
       "      <td>0.430</td>\n",
       "      <td>0.351</td>\n",
       "      <td>1.476</td>\n",
       "      <td>2.254</td>\n",
       "      <td>2.103</td>\n",
       "      <td>0.072</td>\n",
       "      <td>0.079</td>\n",
       "      <td>1.47</td>\n",
       "      <td>7.63</td>\n",
       "      <td>-0.200</td>\n",
       "      <td>0</td>\n",
       "    </tr>\n",
       "    <tr>\n",
       "      <th>3</th>\n",
       "      <td>2016</td>\n",
       "      <td>5</td>\n",
       "      <td>3.533</td>\n",
       "      <td>2.533</td>\n",
       "      <td>2.461</td>\n",
       "      <td>1.365</td>\n",
       "      <td>1.399</td>\n",
       "      <td>0.338</td>\n",
       "      <td>0.243</td>\n",
       "      <td>1.388</td>\n",
       "      <td>2.290</td>\n",
       "      <td>2.123</td>\n",
       "      <td>0.072</td>\n",
       "      <td>0.095</td>\n",
       "      <td>1.55</td>\n",
       "      <td>7.72</td>\n",
       "      <td>-0.049</td>\n",
       "      <td>0</td>\n",
       "    </tr>\n",
       "    <tr>\n",
       "      <th>4</th>\n",
       "      <td>2016</td>\n",
       "      <td>6</td>\n",
       "      <td>2.966</td>\n",
       "      <td>2.444</td>\n",
       "      <td>2.369</td>\n",
       "      <td>1.280</td>\n",
       "      <td>1.312</td>\n",
       "      <td>0.256</td>\n",
       "      <td>0.135</td>\n",
       "      <td>1.289</td>\n",
       "      <td>2.310</td>\n",
       "      <td>2.113</td>\n",
       "      <td>0.075</td>\n",
       "      <td>0.121</td>\n",
       "      <td>1.60</td>\n",
       "      <td>7.78</td>\n",
       "      <td>-0.249</td>\n",
       "      <td>0</td>\n",
       "    </tr>\n",
       "  </tbody>\n",
       "</table>\n",
       "</div>"
      ],
      "text/plain": [
       "   Year  Month  Highest   MHHW    MHW    MSL    MTL    MLW   MLLW    DTL  \\\n",
       "0  2016      1    3.350  2.717  2.648  1.565  1.604  0.561  0.433  1.575   \n",
       "1  2016      3    3.009  2.336  2.290  1.224  1.263  0.236  0.144  1.240   \n",
       "2  2016      4    2.959  2.605  2.533  1.444  1.483  0.430  0.351  1.476   \n",
       "3  2016      5    3.533  2.533  2.461  1.365  1.399  0.338  0.243  1.388   \n",
       "4  2016      6    2.966  2.444  2.369  1.280  1.312  0.256  0.135  1.289   \n",
       "\n",
       "      GT     MN    DHQ    DLQ   HWI   LWI  Lowest  Inferred  \n",
       "0  2.283  2.087  0.069  0.128  1.55  7.68  -0.210         0  \n",
       "1  2.192  2.054  0.046  0.092  1.51  7.69  -0.335         0  \n",
       "2  2.254  2.103  0.072  0.079  1.47  7.63  -0.200         0  \n",
       "3  2.290  2.123  0.072  0.095  1.55  7.72  -0.049         0  \n",
       "4  2.310  2.113  0.075  0.121  1.60  7.78  -0.249         0  "
      ]
     },
     "execution_count": 43,
     "metadata": {},
     "output_type": "execute_result"
    }
   ],
   "source": [
    "# This command will show us the top 3 rows of our data. \n",
    "data.head(3)\n",
    "\n",
    "# How could we change this command to show us 5 rows? How about the bottom 5 rows?"
   ]
  },
  {
   "cell_type": "code",
   "execution_count": 44,
   "metadata": {
    "collapsed": false,
    "scrolled": true
   },
   "outputs": [
    {
     "data": {
      "image/png": "[encoded data removed]",
      "text/plain": [
       "<matplotlib.figure.Figure at 0x7ff231571588>"
      ]
     },
     "metadata": {},
     "output_type": "display_data"
    }
   ],
   "source": [
    "# Now let's plot the data using the \"plt\" import!\n",
    "\n",
    "# For this graph, we want to  plot the 'height' as 'time' passes\n",
    "time = data.Month\n",
    "height = data.MHW  \n",
    "            # MHW = Mean High Water\n",
    "\n",
    "# \".plot\" and \".title\" are just a few of the modules in the \"plt\" package\n",
    "plt.plot(time,height)\n",
    "plt.title'Mean Height Water Levels [2016]')\n",
    "plt.xlabel('Time (monthly)')\n",
    "plt.ylabel('Height (ft.)')\n",
    "plt.show()"
   ]
  },
  {
   "cell_type": "markdown",
   "metadata": {},
   "source": [
    "# Interpreting the Data (Part 1)"
   ]
  },
  {
   "cell_type": "code",
   "execution_count": 45,
   "metadata": {
    "collapsed": true
   },
   "outputs": [],
   "source": [
    "# Spring and Neap tides\n",
    "# ====================="
   ]
  },
  {
   "cell_type": "code",
   "execution_count": 46,
   "metadata": {
    "collapsed": false
   },
   "outputs": [
    {
     "data": {
      "image/png": "[encoded data removed]",
      "text/plain": [
       "<matplotlib.figure.Figure at 0x7ff231718978>"
      ]
     },
     "metadata": {},
     "output_type": "display_data"
    }
   ],
   "source": [
    "x = data.Month\n",
    "y = data.MHW-data.MLW \n",
    "                # MLW = Mean Low Water\n",
    "\n",
    "plt.plot(x,y)\n",
    "plt.title('Max. and Min. Water Difference Levels [2016]')\n",
    "plt.xlabel('Time (monthly)')\n",
    "plt.ylabel('Height Difference (ft.)')\n",
    "plt.show()"
   ]
  },
  {
   "cell_type": "code",
   "execution_count": 47,
   "metadata": {
    "collapsed": true
   },
   "outputs": [],
   "source": [
    "# Spring tides occur when the daily maximum and minimum tide heights are the GREATEST.\n",
    "# Neap tides occur when the daily maximum and minimum tide heights are the LOWEST.\n",
    "\n",
    "# By analyzing this plot, can you determine when Spring Tides occurred in 2016?\n",
    "# When did Neap Tides occur?"
   ]
  },
  {
   "cell_type": "markdown",
   "metadata": {},
   "source": [
    "# Interpreting the Data (Part 2)"
   ]
  },
  {
   "cell_type": "code",
   "execution_count": null,
   "metadata": {
    "collapsed": true
   },
   "outputs": [],
   "source": [
    "# Semidiurnal and Diurnal Tides\n",
    "# ============================="
   ]
  },
  {
   "cell_type": "code",
   "execution_count": 48,
   "metadata": {
    "collapsed": false,
    "scrolled": true
   },
   "outputs": [
    {
     "data": {
      "text/html": [
       "<div>\n",
       "<table border=\"1\" class=\"dataframe\">\n",
       "  <thead>\n",
       "    <tr style=\"text-align: right;\">\n",
       "      <th></th>\n",
       "      <th>Date</th>\n",
       "      <th>Level</th>\n",
       "      <th>Sigma</th>\n",
       "      <th>O</th>\n",
       "      <th>F</th>\n",
       "      <th>R</th>\n",
       "      <th>L</th>\n",
       "      <th>Quality</th>\n",
       "    </tr>\n",
       "  </thead>\n",
       "  <tbody>\n",
       "    <tr>\n",
       "      <th>0</th>\n",
       "      <td>2016-11-30 00:00</td>\n",
       "      <td>2.001</td>\n",
       "      <td>0.036</td>\n",
       "      <td>0</td>\n",
       "      <td>0</td>\n",
       "      <td>0</td>\n",
       "      <td>0</td>\n",
       "      <td>v</td>\n",
       "    </tr>\n",
       "    <tr>\n",
       "      <th>1</th>\n",
       "      <td>2016-11-30 00:06</td>\n",
       "      <td>2.041</td>\n",
       "      <td>0.043</td>\n",
       "      <td>0</td>\n",
       "      <td>0</td>\n",
       "      <td>0</td>\n",
       "      <td>0</td>\n",
       "      <td>v</td>\n",
       "    </tr>\n",
       "    <tr>\n",
       "      <th>2</th>\n",
       "      <td>2016-11-30 00:12</td>\n",
       "      <td>2.073</td>\n",
       "      <td>0.039</td>\n",
       "      <td>0</td>\n",
       "      <td>0</td>\n",
       "      <td>0</td>\n",
       "      <td>0</td>\n",
       "      <td>v</td>\n",
       "    </tr>\n",
       "    <tr>\n",
       "      <th>3</th>\n",
       "      <td>2016-11-30 00:18</td>\n",
       "      <td>2.106</td>\n",
       "      <td>0.039</td>\n",
       "      <td>0</td>\n",
       "      <td>0</td>\n",
       "      <td>0</td>\n",
       "      <td>0</td>\n",
       "      <td>v</td>\n",
       "    </tr>\n",
       "    <tr>\n",
       "      <th>4</th>\n",
       "      <td>2016-11-30 00:24</td>\n",
       "      <td>2.139</td>\n",
       "      <td>0.049</td>\n",
       "      <td>0</td>\n",
       "      <td>0</td>\n",
       "      <td>0</td>\n",
       "      <td>0</td>\n",
       "      <td>v</td>\n",
       "    </tr>\n",
       "  </tbody>\n",
       "</table>\n",
       "</div>"
      ],
      "text/plain": [
       "               Date  Level  Sigma  O  F  R  L Quality\n",
       "0  2016-11-30 00:00  2.001  0.036  0  0  0  0       v\n",
       "1  2016-11-30 00:06  2.041  0.043  0  0  0  0       v\n",
       "2  2016-11-30 00:12  2.073  0.039  0  0  0  0       v\n",
       "3  2016-11-30 00:18  2.106  0.039  0  0  0  0       v\n",
       "4  2016-11-30 00:24  2.139  0.049  0  0  0  0       v"
      ]
     },
     "execution_count": 48,
     "metadata": {},
     "output_type": "execute_result"
    }
   ],
   "source": [
    "# The previous analysis allowed us to look at how water levels varied monthly.\n",
    "# We will now look at a set of data in which the water level was measured every six-minute:\n",
    "data = pd.read_csv(\"https://tidesandcurrents.noaa.gov/api/datagetter?product=water_level&application=NOS.COOPS.TAC.WL&begin_date=20161130&end_date=20161130&datum=MLLW&station=8723214&time_zone=GMT&units=english&format=csv\")\n",
    "column_names = ['Date','Level','Sigma','O','F','R','L','Quality']\n",
    "data.columns = column_names"
   ]
  },
  {
   "cell_type": "code",
   "execution_count": null,
   "metadata": {
    "collapsed": true
   },
   "outputs": [],
   "source": [
    "data.head(5)"
   ]
  },
  {
   "cell_type": "code",
   "execution_count": 99,
   "metadata": {
    "collapsed": false,
    "scrolled": true
   },
   "outputs": [
    {
     "data": {
      "image/png": "[encoded data removed]",
      "text/plain": [
       "<matplotlib.figure.Figure at 0x7ff23116a2b0>"
      ]
     },
     "metadata": {},
     "output_type": "display_data"
    }
   ],
   "source": [
    "x = pd.to_datetime(data.Date).dt.strftime('%H%M')\n",
    "y = data.Level\n",
    "\n",
    "plt.title('24-hr. Water Level [11-30-2016]')\n",
    "plt.xlabel('Time (24-hr Format: HourMinute)')\n",
    "plt.ylabel('Height (ft.)')\n",
    "plt.plot(x,y)\n",
    "plt.show()"
   ]
  },
  {
   "cell_type": "code",
   "execution_count": null,
   "metadata": {
    "collapsed": true
   },
   "outputs": [],
   "source": [
    "# Diurnal Tides have one high tide and one low tide in one day.\n",
    "# Semidiurnal Tides have two high tides and two low tides in one day.\n",
    "\n",
    "# Can you tell whether Miami, FL has Semidiurnal or Diurnal tides?"
   ]
  }
 ],
 "metadata": {
  "anaconda-cloud": {},
  "kernelspec": {
   "display_name": "Python [default]",
   "language": "python",
   "name": "python3"
  },
  "language_info": {
   "codemirror_mode": {
    "name": "ipython",
    "version": 3
   },
   "file_extension": ".py",
   "mimetype": "text/x-python",
   "name": "python",
   "nbconvert_exporter": "python",
   "pygments_lexer": "ipython3",
   "version": "3.5.2"
  }
 },
 "nbformat": 4,
 "nbformat_minor": 1
}
